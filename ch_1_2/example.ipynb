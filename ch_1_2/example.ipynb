{
 "cells": [
  {
   "cell_type": "code",
   "execution_count": 17,
   "metadata": {},
   "outputs": [],
   "source": [
    "import numpy as np \n",
    "import matplotlib.pyplot as plt \n",
    "import cvxpy\n",
    "import pulp\n",
    "np.random.seed(42)"
   ]
  },
  {
   "cell_type": "markdown",
   "metadata": {},
   "source": [
    "# 学校配置問題"
   ]
  },
  {
   "cell_type": "code",
   "execution_count": 18,
   "metadata": {},
   "outputs": [],
   "source": [
    "a = np.random.randn(5,2)"
   ]
  },
  {
   "cell_type": "code",
   "execution_count": 19,
   "metadata": {},
   "outputs": [
    {
     "data": {
      "text/plain": [
       "<matplotlib.collections.PathCollection at 0x7fef5e83bd90>"
      ]
     },
     "execution_count": 19,
     "metadata": {},
     "output_type": "execute_result"
    },
    {
     "data": {
      "image/png": "[encoded data removed]",
      "text/plain": [
       "<Figure size 432x288 with 1 Axes>"
      ]
     },
     "metadata": {
      "needs_background": "light"
     },
     "output_type": "display_data"
    }
   ],
   "source": [
    "plt.scatter(a[:,0],a[:,1]) #各家の配置"
   ]
  },
  {
   "cell_type": "markdown",
   "metadata": {},
   "source": [
    "## 目的関数1\n",
    "$$\n",
    "\\min _{\\boldsymbol{x} \\in \\mathbb{R}^{2}} \\frac{1}{5} \\sum_{i=1}^{5}\\left\\|\\boldsymbol{a}_{i}-\\boldsymbol{x}\\right\\|^{2} \\quad\n",
    "$$"
   ]
  },
  {
   "cell_type": "code",
   "execution_count": 20,
   "metadata": {},
   "outputs": [
    {
     "name": "stdout",
     "output_type": "stream",
     "text": [
      "[0.40399755 0.49212467]\n"
     ]
    },
    {
     "data": {
      "text/plain": [
       "<matplotlib.collections.PathCollection at 0x7fef5e9e27f0>"
      ]
     },
     "execution_count": 20,
     "metadata": {},
     "output_type": "execute_result"
    },
    {
     "data": {
      "image/png": "[encoded data removed]",
      "text/plain": [
       "<Figure size 432x288 with 1 Axes>"
      ]
     },
     "metadata": {
      "needs_background": "light"
     },
     "output_type": "display_data"
    }
   ],
   "source": [
    "x = cvxpy.Variable(2)\n",
    "objective = sum(cvxpy.sum_squares(a[i] - x) for i in range(len(a)))\n",
    "prob = cvxpy.Problem(cvxpy.Minimize(objective))\n",
    "prob.solve()\n",
    "print(x.value)\n",
    "plt.scatter(a[:,0],a[:,1])\n",
    "plt.scatter(x[0].value, x[1].value, marker = '*', s = 200)"
   ]
  },
  {
   "cell_type": "markdown",
   "metadata": {},
   "source": [
    "## 目的関数2\n",
    "$$\n",
    "\\min _{\\boldsymbol{x} \\in \\mathbb{R}^{2}} \\frac{1}{5} \\sum_{i=1}^{5}\\left\\|\\boldsymbol{a}_{i}-\\boldsymbol{x}\\right\\| \\quad\n",
    "$$"
   ]
  },
  {
   "cell_type": "code",
   "execution_count": 21,
   "metadata": {},
   "outputs": [
    {
     "name": "stdout",
     "output_type": "stream",
     "text": [
      "[0.28837677 0.29541787]\n"
     ]
    },
    {
     "data": {
      "text/plain": [
       "<matplotlib.collections.PathCollection at 0x7fef5eb346a0>"
      ]
     },
     "execution_count": 21,
     "metadata": {},
     "output_type": "execute_result"
    },
    {
     "data": {
      "image/png": "[encoded data removed]",
      "text/plain": [
       "<Figure size 432x288 with 1 Axes>"
      ]
     },
     "metadata": {
      "needs_background": "light"
     },
     "output_type": "display_data"
    }
   ],
   "source": [
    "x = cvxpy.Variable(2)\n",
    "objective = sum(cvxpy.norm(a[i] - x,p=2) for i in range(len(a)))\n",
    "prob = cvxpy.Problem(cvxpy.Minimize(objective))\n",
    "prob.solve()\n",
    "print(x.value)\n",
    "plt.scatter(a[:,0],a[:,1])\n",
    "plt.scatter(x[0].value, x[1].value, marker = '*', s = 200)"
   ]
  },
  {
   "cell_type": "markdown",
   "metadata": {},
   "source": [
    "## 目的関数3\n",
    "$$\n",
    "\\min _{\\boldsymbol{x} \\in \\mathbb{R}^{2}} \\max _{i=1, \\ldots, 5}\\left\\|\\boldsymbol{a}_{i}-\\boldsymbol{x}\\right\\| \\quad\n",
    "$$\n",
    "これは以下の問題に定式化しなおせる\n",
    "$$\n",
    "\\begin{array}{c, c, c}\n",
    "\\min  && t &&\\\\ \n",
    "s.t. && \\left\\|\\boldsymbol{a}_{i}-\\boldsymbol{x}\\right\\|  \\le t&& i = 1,...,5\\\\\n",
    "\\end{array}\n",
    "$$"
   ]
  },
  {
   "cell_type": "code",
   "execution_count": 22,
   "metadata": {},
   "outputs": [
    {
     "name": "stdout",
     "output_type": "stream",
     "text": [
      "[0.56245369 0.46594381]\n"
     ]
    },
    {
     "data": {
      "text/plain": [
       "<matplotlib.collections.PathCollection at 0x7fef5ebaf700>"
      ]
     },
     "execution_count": 22,
     "metadata": {},
     "output_type": "execute_result"
    },
    {
     "data": {
      "image/png": "[encoded data removed]",
      "text/plain": [
       "<Figure size 432x288 with 1 Axes>"
      ]
     },
     "metadata": {
      "needs_background": "light"
     },
     "output_type": "display_data"
    }
   ],
   "source": [
    "x = cvxpy.Variable(2)\n",
    "t = cvxpy.Variable(1)\n",
    "objective = t\n",
    "constraints = list(cvxpy.norm(a[i] - x,p=2) <= t for i in range(len(a)))\n",
    "prob = cvxpy.Problem(cvxpy.Minimize(objective), constraints)\n",
    "prob.solve()\n",
    "print(x.value)\n",
    "plt.scatter(a[:,0],a[:,1])\n",
    "plt.scatter(x[0].value, x[1].value, marker = '*', s = 200)"
   ]
  },
  {
   "cell_type": "markdown",
   "metadata": {},
   "source": [
    "## 目的関数4\n",
    "$$\n",
    "\\min _{x \\in \\mathbb{R}^{2}} \\frac{1}{5} \\sum_{i=1}^{5}\\left\\|a_{i}-x\\right\\|_{1}\n",
    "$$"
   ]
  },
  {
   "cell_type": "code",
   "execution_count": 23,
   "metadata": {},
   "outputs": [
    {
     "name": "stdout",
     "output_type": "stream",
     "text": [
      "[0.49671416 0.54256004]\n"
     ]
    },
    {
     "data": {
      "text/plain": [
       "<matplotlib.collections.PathCollection at 0x7fef5ecf0820>"
      ]
     },
     "execution_count": 23,
     "metadata": {},
     "output_type": "execute_result"
    },
    {
     "data": {
      "image/png": "[encoded data removed]",
      "text/plain": [
       "<Figure size 432x288 with 1 Axes>"
      ]
     },
     "metadata": {
      "needs_background": "light"
     },
     "output_type": "display_data"
    }
   ],
   "source": [
    "x = cvxpy.Variable(2)\n",
    "objective = sum(cvxpy.norm(a[i] - x,p=1) for i in range(len(a)))\n",
    "prob = cvxpy.Problem(cvxpy.Minimize(objective))\n",
    "prob.solve()\n",
    "print(x.value)\n",
    "plt.scatter(a[:,0],a[:,1])\n",
    "plt.scatter(x[0].value, x[1].value, marker = '*', s = 200)"
   ]
  },
  {
   "cell_type": "markdown",
   "metadata": {},
   "source": [
    "# 輸送計画\n",
    "$$\n",
    "\\begin{aligned}\n",
    "\\min . \\sum_{i=1}^{m} \\sum_{j=1}^{n} c_{i j} x_{i j} \\\\\n",
    "\\sum_{j=1}^{n} x_{i j} \\leq a_{i} \\\\\n",
    "\\sum_{i=1}^{m} x_{i j}=b_{j} \\\\\n",
    "x_{i j} \\geq 0\n",
    "\\end{aligned}\n",
    "$$\n",
    "具体的なインスタンスとして[NTTデータ数理](https://www.msi.co.jp/nuopt/docs/v19/examples/html/02-02-00.html)を参考にする"
   ]
  },
  {
   "cell_type": "code",
   "execution_count": 24,
   "metadata": {},
   "outputs": [],
   "source": [
    "c = np.array([[3.4,2.2,2.9],[3.4,2.4,2.5]])\n",
    "a = np.array([250,450])\n",
    "b = np.array([200,200,200])"
   ]
  },
  {
   "cell_type": "code",
   "execution_count": 25,
   "metadata": {},
   "outputs": [
    {
     "data": {
      "text/plain": [
       "1620.0000001496592"
      ]
     },
     "execution_count": 25,
     "metadata": {},
     "output_type": "execute_result"
    }
   ],
   "source": [
    "x = cvxpy.Variable((2,3))\n",
    "objective = cvxpy.sum(cvxpy.multiply(c,x))\n",
    "constraints = []\n",
    "constraints += list(cvxpy.sum(x[i,:]) <= a[i] for i in range(len(a)))\n",
    "constraints += list(cvxpy.sum(x[:,i]) == b[i] for i in range(len(b)))\n",
    "constraints += [x >= 0]\n",
    "prob = cvxpy.Problem(cvxpy.Minimize(objective), constraints)\n",
    "prob.solve()"
   ]
  },
  {
   "cell_type": "code",
   "execution_count": 26,
   "metadata": {},
   "outputs": [
    {
     "name": "stdout",
     "output_type": "stream",
     "text": [
      "生産地0から消費地0への輸送量 : 36.3178119330551\n",
      "生産地0から消費地1への輸送量 : 199.99999963881064\n",
      "生産地0から消費地2への輸送量 : 1.9355049614523008e-07\n",
      "生産地1から消費地0への輸送量 : 163.682188066945\n",
      "生産地1から消費地1への輸送量 : 3.6118959789626185e-07\n",
      "生産地1から消費地2への輸送量 : 199.99999980644955\n"
     ]
    }
   ],
   "source": [
    "opt_sol = x.value\n",
    "for i in range(len(a)):\n",
    "    for j in range(len(b)):\n",
    "        print(\"生産地{}から消費地{}への輸送量 : {}\".format(i,j,opt_sol[i][j]))"
   ]
  }
 ],
 "metadata": {
  "kernelspec": {
   "display_name": "Python 3",
   "language": "python",
   "name": "python3"
  },
  "language_info": {
   "codemirror_mode": {
    "name": "ipython",
    "version": 3
   },
   "file_extension": ".py",
   "mimetype": "text/x-python",
   "name": "python",
   "nbconvert_exporter": "python",
   "pygments_lexer": "ipython3",
   "version": "3.8.5"
  }
 },
 "nbformat": 4,
 "nbformat_minor": 4
}
